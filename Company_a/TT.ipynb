{
 "cells": [
  {
   "cell_type": "markdown",
   "id": "cf2d1b22-fdf0-4663-b431-168a0aa3c6dd",
   "metadata": {},
   "source": [
    "# Техническое задание"
   ]
  },
  {
   "cell_type": "markdown",
   "id": "359468de-1dc4-4379-8508-a46d31638d08",
   "metadata": {
    "jp-MarkdownHeadingCollapsed": true
   },
   "source": [
    "## Модули"
   ]
  },
  {
   "cell_type": "code",
   "execution_count": 1,
   "id": "80595df4-b7b5-48ff-811f-4f20c75cd1cf",
   "metadata": {},
   "outputs": [],
   "source": [
    "import pandas as pd\n",
    "import numpy as np\n",
    "import matplotlib.pyplot as plt"
   ]
  },
  {
   "cell_type": "markdown",
   "id": "74752a6f-ae76-4692-bf99-6db20705be09",
   "metadata": {
    "jp-MarkdownHeadingCollapsed": true
   },
   "source": [
    "## Подготовка датасета"
   ]
  },
  {
   "cell_type": "markdown",
   "id": "b881d00f-6f74-4938-8aaf-e4ceb46432e6",
   "metadata": {},
   "source": [
    "<font size=\"3\">**Грузим датасет и смотрим краткую сводку по нему**</font>"
   ]
  },
  {
   "cell_type": "code",
   "execution_count": 2,
   "id": "22b9dab5-4f66-4d76-a6c5-eae6268aba0e",
   "metadata": {},
   "outputs": [
    {
     "name": "stdout",
     "output_type": "stream",
     "text": [
      "<class 'pandas.core.frame.DataFrame'>\n",
      "RangeIndex: 730 entries, 0 to 729\n",
      "Data columns (total 8 columns):\n",
      " #   Column          Non-Null Count  Dtype  \n",
      "---  ------          --------------  -----  \n",
      " 0   client_id       724 non-null    float64\n",
      " 1   sum             724 non-null    float64\n",
      " 2   status          730 non-null    object \n",
      " 3   sale            724 non-null    object \n",
      " 4   new/current     724 non-null    object \n",
      " 5   Unnamed: 5      0 non-null      float64\n",
      " 6   document        709 non-null    object \n",
      " 7   receiving_date  607 non-null    object \n",
      "dtypes: float64(3), object(5)\n",
      "memory usage: 45.8+ KB\n"
     ]
    }
   ],
   "source": [
    "dataframe = pd.read_excel(\"data.xlsx\", header=0) \n",
    "dataframe.info()"
   ]
  },
  {
   "cell_type": "markdown",
   "id": "62613693-9e80-4a25-a7dd-867078594f14",
   "metadata": {},
   "source": [
    "<font size=\"3\">**Посмотрим первые 5 строк**</font>"
   ]
  },
  {
   "cell_type": "code",
   "execution_count": 3,
   "id": "f6bdcb34-cf50-4103-8473-64cd642a9728",
   "metadata": {},
   "outputs": [
    {
     "data": {
      "text/html": [
       "<div>\n",
       "<style scoped>\n",
       "    .dataframe tbody tr th:only-of-type {\n",
       "        vertical-align: middle;\n",
       "    }\n",
       "\n",
       "    .dataframe tbody tr th {\n",
       "        vertical-align: top;\n",
       "    }\n",
       "\n",
       "    .dataframe thead th {\n",
       "        text-align: right;\n",
       "    }\n",
       "</style>\n",
       "<table border=\"1\" class=\"dataframe\">\n",
       "  <thead>\n",
       "    <tr style=\"text-align: right;\">\n",
       "      <th></th>\n",
       "      <th>client_id</th>\n",
       "      <th>sum</th>\n",
       "      <th>status</th>\n",
       "      <th>sale</th>\n",
       "      <th>new/current</th>\n",
       "      <th>Unnamed: 5</th>\n",
       "      <th>document</th>\n",
       "      <th>receiving_date</th>\n",
       "    </tr>\n",
       "  </thead>\n",
       "  <tbody>\n",
       "    <tr>\n",
       "      <th>0</th>\n",
       "      <td>NaN</td>\n",
       "      <td>NaN</td>\n",
       "      <td>Май 2021</td>\n",
       "      <td>NaN</td>\n",
       "      <td>NaN</td>\n",
       "      <td>NaN</td>\n",
       "      <td>NaN</td>\n",
       "      <td>NaN</td>\n",
       "    </tr>\n",
       "    <tr>\n",
       "      <th>1</th>\n",
       "      <td>6.0</td>\n",
       "      <td>11693.7</td>\n",
       "      <td>ВНУТРЕННИЙ</td>\n",
       "      <td>-</td>\n",
       "      <td>-</td>\n",
       "      <td>NaN</td>\n",
       "      <td>-</td>\n",
       "      <td>-</td>\n",
       "    </tr>\n",
       "    <tr>\n",
       "      <th>2</th>\n",
       "      <td>14.0</td>\n",
       "      <td>5452.7</td>\n",
       "      <td>ОПЛАЧЕНО</td>\n",
       "      <td>Петрова</td>\n",
       "      <td>новая</td>\n",
       "      <td>NaN</td>\n",
       "      <td>оригинал</td>\n",
       "      <td>2021-07-26 00:00:00</td>\n",
       "    </tr>\n",
       "    <tr>\n",
       "      <th>3</th>\n",
       "      <td>15.0</td>\n",
       "      <td>13991.7</td>\n",
       "      <td>ОПЛАЧЕНО</td>\n",
       "      <td>Иванов</td>\n",
       "      <td>текущая</td>\n",
       "      <td>NaN</td>\n",
       "      <td>оригинал</td>\n",
       "      <td>2021-06-08 00:00:00</td>\n",
       "    </tr>\n",
       "    <tr>\n",
       "      <th>4</th>\n",
       "      <td>16.0</td>\n",
       "      <td>719.7</td>\n",
       "      <td>ОПЛАЧЕНО</td>\n",
       "      <td>Иванов</td>\n",
       "      <td>текущая</td>\n",
       "      <td>NaN</td>\n",
       "      <td>оригинал</td>\n",
       "      <td>2021-06-08 00:00:00</td>\n",
       "    </tr>\n",
       "  </tbody>\n",
       "</table>\n",
       "</div>"
      ],
      "text/plain": [
       "   client_id      sum      status     sale new/current  Unnamed: 5  document  \\\n",
       "0        NaN      NaN    Май 2021      NaN         NaN         NaN       NaN   \n",
       "1        6.0  11693.7  ВНУТРЕННИЙ        -           -         NaN         -   \n",
       "2       14.0   5452.7    ОПЛАЧЕНО  Петрова       новая         NaN  оригинал   \n",
       "3       15.0  13991.7    ОПЛАЧЕНО   Иванов     текущая         NaN  оригинал   \n",
       "4       16.0    719.7    ОПЛАЧЕНО   Иванов     текущая         NaN  оригинал   \n",
       "\n",
       "        receiving_date  \n",
       "0                  NaN  \n",
       "1                    -  \n",
       "2  2021-07-26 00:00:00  \n",
       "3  2021-06-08 00:00:00  \n",
       "4  2021-06-08 00:00:00  "
      ]
     },
     "execution_count": 3,
     "metadata": {},
     "output_type": "execute_result"
    }
   ],
   "source": [
    "dataframe.head()"
   ]
  },
  {
   "cell_type": "markdown",
   "id": "6446a89f-79f0-4048-b2fd-d30bff0cc3e8",
   "metadata": {},
   "source": [
    "<font size=\"3\">**Уберём лишний пустой столбец**</font>"
   ]
  },
  {
   "cell_type": "code",
   "execution_count": 4,
   "id": "06ad3840-d7a2-448b-b42c-1e6c289b13dd",
   "metadata": {},
   "outputs": [],
   "source": [
    "dataframe.drop(labels=\"Unnamed: 5\", axis=1, inplace=True)"
   ]
  },
  {
   "cell_type": "markdown",
   "id": "a2721200-d603-4e76-93f5-fdbd1dc0f080",
   "metadata": {},
   "source": [
    "<font size=\"3\">**Заменим прочерки на NaN для более удобной обработки**</font>"
   ]
  },
  {
   "cell_type": "code",
   "execution_count": 5,
   "id": "e3fb9dcc-8d3a-4f07-8984-afb9ae852b06",
   "metadata": {},
   "outputs": [
    {
     "data": {
      "text/html": [
       "<div>\n",
       "<style scoped>\n",
       "    .dataframe tbody tr th:only-of-type {\n",
       "        vertical-align: middle;\n",
       "    }\n",
       "\n",
       "    .dataframe tbody tr th {\n",
       "        vertical-align: top;\n",
       "    }\n",
       "\n",
       "    .dataframe thead th {\n",
       "        text-align: right;\n",
       "    }\n",
       "</style>\n",
       "<table border=\"1\" class=\"dataframe\">\n",
       "  <thead>\n",
       "    <tr style=\"text-align: right;\">\n",
       "      <th></th>\n",
       "      <th>client_id</th>\n",
       "      <th>sum</th>\n",
       "      <th>status</th>\n",
       "      <th>sale</th>\n",
       "      <th>new/current</th>\n",
       "      <th>document</th>\n",
       "      <th>receiving_date</th>\n",
       "    </tr>\n",
       "  </thead>\n",
       "  <tbody>\n",
       "    <tr>\n",
       "      <th>0</th>\n",
       "      <td>NaN</td>\n",
       "      <td>NaN</td>\n",
       "      <td>Май 2021</td>\n",
       "      <td>NaN</td>\n",
       "      <td>NaN</td>\n",
       "      <td>NaN</td>\n",
       "      <td>NaT</td>\n",
       "    </tr>\n",
       "    <tr>\n",
       "      <th>1</th>\n",
       "      <td>6.0</td>\n",
       "      <td>11693.7</td>\n",
       "      <td>ВНУТРЕННИЙ</td>\n",
       "      <td>NaN</td>\n",
       "      <td>NaN</td>\n",
       "      <td>NaN</td>\n",
       "      <td>NaT</td>\n",
       "    </tr>\n",
       "    <tr>\n",
       "      <th>2</th>\n",
       "      <td>14.0</td>\n",
       "      <td>5452.7</td>\n",
       "      <td>ОПЛАЧЕНО</td>\n",
       "      <td>Петрова</td>\n",
       "      <td>новая</td>\n",
       "      <td>оригинал</td>\n",
       "      <td>2021-07-26</td>\n",
       "    </tr>\n",
       "    <tr>\n",
       "      <th>3</th>\n",
       "      <td>15.0</td>\n",
       "      <td>13991.7</td>\n",
       "      <td>ОПЛАЧЕНО</td>\n",
       "      <td>Иванов</td>\n",
       "      <td>текущая</td>\n",
       "      <td>оригинал</td>\n",
       "      <td>2021-06-08</td>\n",
       "    </tr>\n",
       "    <tr>\n",
       "      <th>4</th>\n",
       "      <td>16.0</td>\n",
       "      <td>719.7</td>\n",
       "      <td>ОПЛАЧЕНО</td>\n",
       "      <td>Иванов</td>\n",
       "      <td>текущая</td>\n",
       "      <td>оригинал</td>\n",
       "      <td>2021-06-08</td>\n",
       "    </tr>\n",
       "  </tbody>\n",
       "</table>\n",
       "</div>"
      ],
      "text/plain": [
       "   client_id      sum      status     sale new/current  document  \\\n",
       "0        NaN      NaN    Май 2021      NaN         NaN       NaN   \n",
       "1        6.0  11693.7  ВНУТРЕННИЙ      NaN         NaN       NaN   \n",
       "2       14.0   5452.7    ОПЛАЧЕНО  Петрова       новая  оригинал   \n",
       "3       15.0  13991.7    ОПЛАЧЕНО   Иванов     текущая  оригинал   \n",
       "4       16.0    719.7    ОПЛАЧЕНО   Иванов     текущая  оригинал   \n",
       "\n",
       "  receiving_date  \n",
       "0            NaT  \n",
       "1            NaT  \n",
       "2     2021-07-26  \n",
       "3     2021-06-08  \n",
       "4     2021-06-08  "
      ]
     },
     "execution_count": 5,
     "metadata": {},
     "output_type": "execute_result"
    }
   ],
   "source": [
    "dataframe.replace(to_replace='-', value=np.nan, inplace=True)\n",
    "dataframe.head()"
   ]
  },
  {
   "cell_type": "markdown",
   "id": "6d4fe0b1-1c3d-4152-b333-077e98dcce9b",
   "metadata": {},
   "source": [
    "<font size=\"3\">**Приведем столбцы к нужному типу данных**</font>"
   ]
  },
  {
   "cell_type": "code",
   "execution_count": 6,
   "id": "6dc2091c-58a1-4b5a-a3aa-bfd394195f78",
   "metadata": {},
   "outputs": [
    {
     "name": "stdout",
     "output_type": "stream",
     "text": [
      "<class 'pandas.core.frame.DataFrame'>\n",
      "RangeIndex: 730 entries, 0 to 729\n",
      "Data columns (total 7 columns):\n",
      " #   Column          Non-Null Count  Dtype         \n",
      "---  ------          --------------  -----         \n",
      " 0   client_id       724 non-null    Int64         \n",
      " 1   sum             724 non-null    float64       \n",
      " 2   status          730 non-null    string        \n",
      " 3   sale            723 non-null    string        \n",
      " 4   new/current     723 non-null    string        \n",
      " 5   document        708 non-null    string        \n",
      " 6   receiving_date  606 non-null    datetime64[ns]\n",
      "dtypes: Int64(1), datetime64[ns](1), float64(1), string(4)\n",
      "memory usage: 40.8 KB\n"
     ]
    }
   ],
   "source": [
    "dataframe[\"client_id\"] = dataframe[\"client_id\"].astype(\"Int64\")\n",
    "dataframe[\"sum\"] = dataframe[\"sum\"].astype(\"float64\")\n",
    "dataframe[dataframe.columns[2:6]] = dataframe.loc[:,\"status\":\"document\"].astype(\"string\")\n",
    "dataframe[\"receiving_date\"] = pd.to_datetime(dataframe[\"receiving_date\"])\n",
    "dataframe.info()"
   ]
  },
  {
   "cell_type": "markdown",
   "id": "31f83d7d-46af-4754-a853-5b6827512aa9",
   "metadata": {},
   "source": [
    "<font size=\"3\">**В некоторых строках, там где есть дата получение оригинала, отсутствует поле \"document\". Исправим это:**</font>"
   ]
  },
  {
   "cell_type": "code",
   "execution_count": 7,
   "id": "06302f50-604a-4f3a-a8fc-d975c5266b19",
   "metadata": {},
   "outputs": [],
   "source": [
    "#dataframe.loc[dataframe[\"receiving_date\"] is np.nan, \"document\"] = \"оригинал\"\n",
    "dataframe.loc[dataframe[\"receiving_date\"].notna(), \"document\"] = \"оригинал\""
   ]
  },
  {
   "cell_type": "markdown",
   "id": "db3334e7-7994-4c6e-bd7a-1358ef492459",
   "metadata": {},
   "source": [
    "<font size=\"3\">**Посмотрим подробнее на колонку \"status\"**</font>"
   ]
  },
  {
   "cell_type": "code",
   "execution_count": 8,
   "id": "fb2aad16-6af9-4e29-b2e9-84cc0c4138c5",
   "metadata": {},
   "outputs": [
    {
     "data": {
      "text/plain": [
       "ОПЛАЧЕНО         622\n",
       "ПРОСРОЧЕНО        52\n",
       "В РАБОТЕ          44\n",
       "НА ПОДПИСАНИИ      5\n",
       "Май 2021           1\n",
       "ВНУТРЕННИЙ         1\n",
       "Июнь 2021          1\n",
       "Июль 2021          1\n",
       "Август 2021        1\n",
       "Сентябрь 2021      1\n",
       "Октябрь 2021       1\n",
       "Name: status, dtype: Int64"
      ]
     },
     "execution_count": 8,
     "metadata": {},
     "output_type": "execute_result"
    }
   ],
   "source": [
    "#pd.unique(dataframe[\"status\"])\n",
    "dataframe[\"status\"].value_counts()"
   ]
  },
  {
   "cell_type": "markdown",
   "id": "325c3e3c-5942-4135-bd85-0d963b464a96",
   "metadata": {},
   "source": [
    "<font size=\"3\">**Каждый месяц отделяется строкой, все поля которой пустые, кроме поля \"status\". Найдём индексы таких строк, разделим датасет на месячные части и поместим в словарь**</font>"
   ]
  },
  {
   "cell_type": "code",
   "execution_count": 9,
   "id": "b19da49f-1c6e-42c7-9432-be669fdb543b",
   "metadata": {},
   "outputs": [],
   "source": [
    "may_index = dataframe.index[dataframe['status'] == 'Май 2021'].to_list()[0]\n",
    "june_index =  dataframe.index[dataframe['status'] == 'Июнь 2021'].to_list()[0]\n",
    "july_index = dataframe.index[dataframe['status'] == 'Июль 2021'].to_list()[0]\n",
    "august_index = dataframe.index[dataframe['status'] == 'Август 2021'].to_list()[0]\n",
    "september_index = dataframe.index[dataframe['status'] == 'Сентябрь 2021'].to_list()[0]\n",
    "october_index = dataframe.index[dataframe['status'] == 'Октябрь 2021'].to_list()[0]"
   ]
  },
  {
   "cell_type": "code",
   "execution_count": 10,
   "id": "8cf8af4c-a132-4b97-ac1a-7cf3b6c4339a",
   "metadata": {},
   "outputs": [],
   "source": [
    "data_dict = {\n",
    "    \"may\": dataframe[may_index + 1: june_index],\n",
    "    \"june\": dataframe[june_index + 1: july_index],\n",
    "    \"july\": dataframe[july_index + 1: august_index],\n",
    "    \"august\": dataframe[august_index + 1: september_index],\n",
    "    \"september\": dataframe[september_index + 1: october_index],\n",
    "    \"october\": dataframe[october_index + 1:]\n",
    "}"
   ]
  },
  {
   "cell_type": "markdown",
   "id": "9b9e8f52-c168-4e3f-97a5-283b9858036e",
   "metadata": {},
   "source": [
    "<font size=\"3\">**Теперь всё готово для работы с данными**</font>"
   ]
  },
  {
   "cell_type": "markdown",
   "id": "2cfba13e-c47f-406f-8877-5ebc979b29ed",
   "metadata": {
    "jp-MarkdownHeadingCollapsed": true
   },
   "source": [
    "## Вопросы"
   ]
  },
  {
   "cell_type": "markdown",
   "id": "7f539938-8eda-4023-bb4b-afbcd038e268",
   "metadata": {},
   "source": [
    "<font size=\"4\">**1. Вычислите общую выручку за июль 2021 по тем сделкам, приход денежных \n",
    "средств которых не просрочен**</font>."
   ]
  },
  {
   "cell_type": "code",
   "execution_count": 11,
   "id": "30fceab6-934d-43c9-afcf-b64969ba682a",
   "metadata": {},
   "outputs": [
    {
     "name": "stdout",
     "output_type": "stream",
     "text": [
      "Выручка за июль 2021, без учёта просроченных сделок: 859896\n"
     ]
    }
   ],
   "source": [
    "df_july = data_dict[\"july\"]\n",
    "july_sum = df_july[df_july[\"status\"] != \"ПРОСРОЧЕНО\"][\"sum\"].sum()\n",
    "print(\"Выручка за июль 2021, без учёта просроченных сделок:\", int(july_sum.round()))"
   ]
  },
  {
   "cell_type": "markdown",
   "id": "9dfe0ce1-031c-49dc-91e0-b4d4985db0bd",
   "metadata": {},
   "source": [
    "<font size=\"4\">**2. Как изменялась выручка компании за рассматриваемый период? \n",
    "Проиллюстрируйте графиком**</font>."
   ]
  },
  {
   "cell_type": "code",
   "execution_count": 12,
   "id": "918d1c9f-61ba-480c-a59a-a3ed88c4c9fd",
   "metadata": {},
   "outputs": [],
   "source": [
    "months = [\"may\", \"june\", \"july\", \"august\", \"september\", \"october\"]\n",
    "\n",
    "income = []\n",
    "for month in months:\n",
    "    income.append(data_dict[month][\"sum\"].sum())"
   ]
  },
  {
   "cell_type": "code",
   "execution_count": 13,
   "id": "2ea4e9f0-db40-4eec-ae26-3339153be6b5",
   "metadata": {},
   "outputs": [
    {
     "data": {
      "image/png": "[encoded data removed]",
      "text/plain": [
       "<Figure size 640x480 with 1 Axes>"
      ]
     },
     "metadata": {},
     "output_type": "display_data"
    }
   ],
   "source": [
    "plt.bar(months, income, color ='maroon', width = 0.4)\n",
    "plt.xlabel(\"Месяц\")\n",
    "plt.ylabel(\"Выручка\")\n",
    "plt.title(\"Изменение выручки компании\")\n",
    "plt.show()"
   ]
  },
  {
   "cell_type": "markdown",
   "id": "9cb990e9-b283-4070-b4a1-291ffd6b958b",
   "metadata": {},
   "source": [
    "<font size=\"4\">**3. Кто из менеджеров привлек для компании больше всего денежных средств в \n",
    "сентябре 2021**</font>?"
   ]
  },
  {
   "cell_type": "code",
   "execution_count": 14,
   "id": "8f2c68e5-fcbb-4fd6-93da-adbccc42cd68",
   "metadata": {},
   "outputs": [
    {
     "data": {
      "text/plain": [
       "sale\n",
       "Смирнов       221525.70\n",
       "Петрова       149344.46\n",
       "Андреев       133652.50\n",
       "Иванов         94770.60\n",
       "Кузнецова      72228.40\n",
       "Филимонова     59514.47\n",
       "Васильев       49895.45\n",
       "Соколов        35183.50\n",
       "Михайлов        4268.70\n",
       "Name: sum, dtype: float64"
      ]
     },
     "execution_count": 14,
     "metadata": {},
     "output_type": "execute_result"
    }
   ],
   "source": [
    "data_dict[\"september\"].groupby(by=\"sale\")[\"sum\"].sum().sort_values(ascending=False)\n",
    "#Алтернативный способ использовать метод idxmax()"
   ]
  },
  {
   "cell_type": "markdown",
   "id": "438c38cc-0bbb-42fd-89c2-bd495aaa46d0",
   "metadata": {},
   "source": [
    "<font size=\"3\">**Смирнов привлек для компании больше всего денежных средств.**</font>"
   ]
  },
  {
   "cell_type": "markdown",
   "id": "58609e64-d9a7-4928-bfb8-25948dff7241",
   "metadata": {},
   "source": [
    "<font size=\"4\">**4. Какой тип сделок (новая/текущая) был преобладающим в октябре 2021?**</font>"
   ]
  },
  {
   "cell_type": "code",
   "execution_count": 15,
   "id": "30415dce-4c2a-4ffc-8210-bd49d42726e6",
   "metadata": {},
   "outputs": [
    {
     "data": {
      "text/plain": [
       "new/current\n",
       "новая      36\n",
       "текущая    99\n",
       "Name: client_id, dtype: int64"
      ]
     },
     "execution_count": 15,
     "metadata": {},
     "output_type": "execute_result"
    }
   ],
   "source": [
    "data_dict[\"october\"].groupby(by=\"new/current\")[\"client_id\"].count()\n"
   ]
  },
  {
   "cell_type": "markdown",
   "id": "e90d1716-605e-497a-bd4f-e16245a9a570",
   "metadata": {},
   "source": [
    "<font size=\"3\">**За октябрь 2021 преобладали текущие сделки.**</font>"
   ]
  },
  {
   "cell_type": "markdown",
   "id": "9024e032-0b7f-404b-8a77-daf37806365f",
   "metadata": {},
   "source": [
    "<font size=\"4\">**5. Сколько оригиналов договора по майским сделкам было получено в июне 2021?**</font>"
   ]
  },
  {
   "cell_type": "code",
   "execution_count": 16,
   "id": "8015272b-aebe-48ca-9b6d-fd7f4af6a35b",
   "metadata": {},
   "outputs": [
    {
     "name": "stdout",
     "output_type": "stream",
     "text": [
      "Было получено 77 оригиналов\n"
     ]
    }
   ],
   "source": [
    "may_count = data_dict[\"may\"][(data_dict[\"may\"][\"document\"]==\"оригинал\") \\\n",
    "& (data_dict[\"may\"][\"receiving_date\"] >= pd.Timestamp('2021-06-01T00')) \\\n",
    "& (data_dict[\"may\"][\"receiving_date\"] < pd.Timestamp('2021-07-01T00'))][\"client_id\"].count()\n",
    "print(f\"Было получено {may_count} оригиналов\")"
   ]
  },
  {
   "cell_type": "markdown",
   "id": "809dda88-d4eb-47be-a8ac-e1b2df739bb6",
   "metadata": {
    "jp-MarkdownHeadingCollapsed": true
   },
   "source": [
    "## Задание"
   ]
  },
  {
   "cell_type": "markdown",
   "id": "492f9450-4a64-4e78-ab82-1acaa39ed34a",
   "metadata": {},
   "source": [
    "За каждую заключенную сделку менеджер получает бонус, который рассчитывается\r\n",
    "следующим образом.\r\n",
    "1) За новые сделки менеджер получает 7 % от суммы, при условии, что статус\r\n",
    "оплаты «ОПЛАЧЕНО», а также имеется оригинал подписанного договора с\r\n",
    "клиентом (в рассматриваемом месяце).\r\n",
    "2) За текущие сделки менеджер получает 5 % от суммы, если она больше 10 тыс.,\r\n",
    "и 3 % от суммы, если меньше. При этом статус оплаты может быть любым,\r\n",
    "кроме «ПРОСРОЧЕНО», а также необходимо наличие оригинала подписанного\r\n",
    "договора с клиентом (в рассматриваемом \n",
    "есяце).\r\n",
    "Бонусы по сделкам, оригиналы для которых приходят позже рассматриваемого\r\n",
    "месяца, считаются остатком на следующий период, который выплачивается по мере\r\n",
    "прихода оригиналов. Вычислите остаток каждого из менеджеров на 01.07.2021."
   ]
  },
  {
   "cell_type": "code",
   "execution_count": 17,
   "id": "156f546e-6e5f-417a-9ef5-10ebd834f296",
   "metadata": {},
   "outputs": [],
   "source": [
    "may_june_df = pd.concat([data_dict[\"may\"], data_dict[\"june\"]])\n",
    "\n",
    "cond1 = (may_june_df[\"status\"] == \"ОПЛАЧЕНО\") & (may_june_df[\"new/current\"] == \"новая\")\n",
    "may_june_df[\"bonus\"] = may_june_df[cond1][\"sum\"].apply(lambda x: 0.07 * x)"
   ]
  },
  {
   "cell_type": "code",
   "execution_count": 18,
   "id": "765a020f-c800-4b1a-919f-d72435fa4240",
   "metadata": {},
   "outputs": [],
   "source": [
    "cond2a = (may_june_df[\"status\"] != \"ПРОСРОЧЕНО\") & (may_june_df[\"new/current\"] == \"текущая\") & (may_june_df[\"sum\"] > 10000)\n",
    "may_june_df.loc[cond2a, \"bonus\"] = may_june_df[cond2a][\"sum\"].apply(lambda x: 0.05 * x)\n",
    "\n",
    "cond2b = (may_june_df[\"status\"] != \"ПРОСРОЧЕНО\") & (may_june_df[\"new/current\"] == \"текущая\") & (may_june_df[\"sum\"] <=10000)\n",
    "may_june_df.loc[cond2b, \"bonus\"] = may_june_df[cond2b][\"sum\"].apply(lambda x: 0.03 * x)"
   ]
  },
  {
   "cell_type": "code",
   "execution_count": 19,
   "id": "d4f0cad4-ed5c-4af4-8494-213af6e95e85",
   "metadata": {},
   "outputs": [
    {
     "data": {
      "text/plain": [
       "sale\n",
       "Андреев       4798.2037\n",
       "Васильев       339.2310\n",
       "Иванов        2503.8390\n",
       "Кузнецова     2604.6716\n",
       "Петрова       7028.8020\n",
       "Селиванов      353.3220\n",
       "Смирнов       4775.1330\n",
       "Филимонова     409.6830\n",
       "Name: bonus, dtype: float64"
      ]
     },
     "execution_count": 19,
     "metadata": {},
     "output_type": "execute_result"
    }
   ],
   "source": [
    "may_june_df[may_june_df[\"receiving_date\"] < pd.Timestamp('2021-07-01T00')].groupby(by=\"sale\")[\"bonus\"].sum()"
   ]
  }
 ],
 "metadata": {
  "kernelspec": {
   "display_name": "Python 3 (ipykernel)",
   "language": "python",
   "name": "python3"
  },
  "language_info": {
   "codemirror_mode": {
    "name": "ipython",
    "version": 3
   },
   "file_extension": ".py",
   "mimetype": "text/x-python",
   "name": "python",
   "nbconvert_exporter": "python",
   "pygments_lexer": "ipython3",
   "version": "3.10.7"
  }
 },
 "nbformat": 4,
 "nbformat_minor": 5
}
